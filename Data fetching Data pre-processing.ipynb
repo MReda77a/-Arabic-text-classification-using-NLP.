{
 "cells": [
  {
   "cell_type": "markdown",
   "metadata": {},
   "source": [
    "Randomise the dataset "
   ]
  },
  {
   "cell_type": "code",
   "execution_count": null,
   "metadata": {},
   "outputs": [],
   "source": [
    "d = pd.read_csv('dialect_dataset.csv')\n",
    "df=d.sample(n=1000)\n",
    "df\n",
    "List = []\n",
    "id1=df['id']\n",
    "df"
   ]
  },
  {
   "cell_type": "markdown",
   "metadata": {},
   "source": [
    "Data fetching and pre-processing"
   ]
  },
  {
   "cell_type": "code",
   "execution_count": null,
   "metadata": {},
   "outputs": [],
   "source": [
    "for j in id1 :\n",
    "    i=i+1\n",
    "    if(i<=1000):\n",
    "        c= str(j)\n",
    "        r=req.post('https://recruitment.aimtechnologies.co/ai-tasks',json=[c] )\n",
    "        x=' '.join(re.sub(\"(@[ا-ي]+)|([^ا-ي \\t])|(\\w+://\\S+)\",\" \",str(r.json())).split())\n",
    "        List.append(x)\n",
    "\n",
    "            "
   ]
  },
  {
   "cell_type": "code",
   "execution_count": null,
   "metadata": {},
   "outputs": [],
   "source": [
    "df['text']=List\n",
    "df.drop('id', axis=1,inplace=True)\n",
    "le1=preprocessing.LabelEncoder()\n",
    "df['dialect']=le1.fit_transform(df['dialect'])"
   ]
  }
 ],
 "metadata": {
  "kernelspec": {
   "display_name": "Python 3",
   "language": "python",
   "name": "python3"
  },
  "language_info": {
   "codemirror_mode": {
    "name": "ipython",
    "version": 3
   },
   "file_extension": ".py",
   "mimetype": "text/x-python",
   "name": "python",
   "nbconvert_exporter": "python",
   "pygments_lexer": "ipython3",
   "version": "3.8.3"
  }
 },
 "nbformat": 4,
 "nbformat_minor": 4
}
